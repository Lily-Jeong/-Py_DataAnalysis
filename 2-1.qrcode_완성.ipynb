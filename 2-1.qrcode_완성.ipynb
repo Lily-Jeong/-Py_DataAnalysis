{
  "cells": [
    {
      "cell_type": "markdown",
      "metadata": {
        "id": "FvRq5u_rojZu"
      },
      "source": [
        "[참고링크]\n",
        "https://pypi.org/project/qrcode/"
      ]
    },
    {
      "cell_type": "code",
      "execution_count": 1,
      "metadata": {
        "id": "Oj9HHy_ciBfd"
      },
      "outputs": [
        {
          "name": "stdout",
          "output_type": "stream",
          "text": [
            "zsh:1: no matches found: qrcode[pil]\n"
          ]
        }
      ],
      "source": [
        "!pip install qrcode[pil]"
      ]
    },
    {
      "cell_type": "code",
      "execution_count": 6,
      "metadata": {},
      "outputs": [
        {
          "name": "stdout",
          "output_type": "stream",
          "text": [
            "Requirement already satisfied: qrcode in c:\\python39\\lib\\site-packages (7.3.1)\n",
            "Requirement already satisfied: colorama in c:\\python39\\lib\\site-packages (from qrcode) (0.4.5)\n"
          ]
        }
      ],
      "source": [
        "!pip install qrcode"
      ]
    },
    {
      "cell_type": "markdown",
      "metadata": {
        "id": "A97gmelOoOe9"
      },
      "source": [
        "# 라이브러리 로드"
      ]
    },
    {
      "cell_type": "code",
      "execution_count": 1,
      "metadata": {
        "id": "qCBqkRRNmGAW"
      },
      "outputs": [],
      "source": [
        "import qrcode"
      ]
    },
    {
      "cell_type": "code",
      "execution_count": 2,
      "metadata": {
        "id": "JaATuQ25qbQV"
      },
      "outputs": [
        {
          "data": {
            "text/plain": [
              "['ERROR_CORRECT_H',\n",
              " 'ERROR_CORRECT_L',\n",
              " 'ERROR_CORRECT_M',\n",
              " 'ERROR_CORRECT_Q',\n",
              " 'LUT',\n",
              " 'QRCode',\n",
              " '__builtins__',\n",
              " '__cached__',\n",
              " '__doc__',\n",
              " '__file__',\n",
              " '__loader__',\n",
              " '__name__',\n",
              " '__package__',\n",
              " '__path__',\n",
              " '__spec__',\n",
              " 'base',\n",
              " 'constants',\n",
              " 'exceptions',\n",
              " 'image',\n",
              " 'main',\n",
              " 'make',\n",
              " 'run_example',\n",
              " 'util']"
            ]
          },
          "execution_count": 2,
          "metadata": {},
          "output_type": "execute_result"
        }
      ],
      "source": [
        "dir(qrcode)"
      ]
    },
    {
      "cell_type": "markdown",
      "metadata": {
        "id": "EmkFOOnmoWpG"
      },
      "source": [
        "# qrcode 만들기"
      ]
    },
    {
      "cell_type": "code",
      "execution_count": 3,
      "metadata": {
        "id": "3s-pqbB6oSmd"
      },
      "outputs": [
        {
          "data": {
            "image/png": "[encoded data removed]",
            "text/plain": [
              "<qrcode.image.pil.PilImage at 0x107f084c0>"
            ]
          },
          "execution_count": 3,
          "metadata": {},
          "output_type": "execute_result"
        }
      ],
      "source": [
        "import qrcode\n",
        "img = qrcode.make('www.naver.com')\n",
        "img\n"
      ]
    },
    {
      "cell_type": "code",
      "execution_count": 4,
      "metadata": {
        "id": "g1cXakBmpmDN"
      },
      "outputs": [
        {
          "data": {
            "image/png": "[encoded data removed]",
            "text/plain": [
              "<qrcode.image.pil.PilImage at 0x107ad0130>"
            ]
          },
          "execution_count": 4,
          "metadata": {},
          "output_type": "execute_result"
        }
      ],
      "source": [
        "img = qrcode.make('www.youtube.com')\n",
        "img"
      ]
    },
    {
      "cell_type": "code",
      "execution_count": 5,
      "metadata": {
        "id": "CM4FNHXEpy_t"
      },
      "outputs": [
        {
          "data": {
            "text/plain": [
              "qrcode.image.pil.PilImage"
            ]
          },
          "execution_count": 5,
          "metadata": {},
          "output_type": "execute_result"
        }
      ],
      "source": [
        "type(img)  # qrcode.image.pil.PilImage"
      ]
    },
    {
      "cell_type": "code",
      "execution_count": 6,
      "metadata": {
        "id": "LFoJeOqKo5Ud"
      },
      "outputs": [],
      "source": [
        "\n",
        "img.save(\"youtube_qr.png\")"
      ]
    },
    {
      "cell_type": "code",
      "execution_count": null,
      "metadata": {
        "id": "nwVddYoyqEH9"
      },
      "outputs": [],
      "source": []
    }
  ],
  "metadata": {
    "colab": {
      "private_outputs": true,
      "provenance": []
    },
    "kernelspec": {
      "display_name": "Python 3.10.6 64-bit",
      "language": "python",
      "name": "python3"
    },
    "language_info": {
      "codemirror_mode": {
        "name": "ipython",
        "version": 3
      },
      "file_extension": ".py",
      "mimetype": "text/x-python",
      "name": "python",
      "nbconvert_exporter": "python",
      "pygments_lexer": "ipython3",
      "version": "3.10.6"
    },
    "vscode": {
      "interpreter": {
        "hash": "aee8b7b246df8f9039afb4144a1f6fd8d2ca17a180786b69acc140d282b71a49"
      }
    }
  },
  "nbformat": 4,
  "nbformat_minor": 0
}
